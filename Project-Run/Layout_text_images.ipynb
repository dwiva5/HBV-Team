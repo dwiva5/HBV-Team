{
 "cells": [
  {
   "cell_type": "markdown",
   "id": "4eb2dd8f-64e4-4119-973a-d872af9f3945",
   "metadata": {},
   "source": [
    "# Rainfall-Runoff Modeling using Probabilistic Estimations"
   ]
  },
  {
   "cell_type": "markdown",
   "id": "1dd2d48a-ee9f-40d9-b4b4-eca3f771490b",
   "metadata": {},
   "source": [
    "This is a project for the course CEGM2003 Data Science and Artificial Intelligence for Engineers,\n",
    "created by the members of the HBV Group: \n",
    "- Dwiva Anbiya Taruna (5849578)\n",
    "- Konstantina Bourazani (5728347)\n",
    "- Hang Long (5743702)\n",
    "- Thomas Poort (4715500)"
   ]
  },
  {
   "cell_type": "code",
   "execution_count": 15,
   "id": "e610dab8-581c-410a-ae5d-7549bf4fc2e8",
   "metadata": {},
   "outputs": [],
   "source": [
    "# Improt functions..."
   ]
  },
  {
   "cell_type": "markdown",
   "id": "73871d18-86b2-44ad-a3f0-90f09814f5dc",
   "metadata": {},
   "source": [
    "## Introduction\r\n"
   ]
  },
  {
   "cell_type": "markdown",
   "id": "2eb15905-e54b-4f65-a1a7-8d63f51f0a7b",
   "metadata": {},
   "source": [
    "Rainfall runoff modeling is extremely important for hydrological science as it plays an huge role in understanding and managing water resources. The water cycle, containing factors such as precipitation and evaporation, contains many interactions between the atmosphere, the land surface and the river system. Understanding each of these factors and how they impact the river systems is extremely important. Especially in current times of climate change and urbanization that continues to reshape landscapes, there is a need for accurate and reliable rainfall runoff models. In the past years it has become increasingly apparent that the climate has been changing and that river systems have been impacted greatly in the forms of droughts or floods.\r\n"
   ]
  },
  {
   "cell_type": "markdown",
   "id": "b4c5e890-e262-4b00-b63a-6c76b78bf287",
   "metadata": {},
   "source": [
    "<center><figure>\n",
    "  <img src=\"Images/droughts_river_france.jpg\" width=400/>\n",
    "  <img src=\"Images/floods_river_germany.jpg\" width=400/>\n",
    "</figure></center>"
   ]
  },
  {
   "cell_type": "markdown",
   "id": "93d15af9-0083-4db2-8673-3c4ca523feda",
   "metadata": {},
   "source": [
    "Therefore, predicting the runoff in river systems is crucial for a multitude of applications, such as water resource management, flood risk assessment, urban planning or early warning systems. Hydrological prediction is important in effective water resource management, playing a pivotal role in addressing the challenges posed by climate variability and change. "
   ]
  },
  {
   "cell_type": "markdown",
   "id": "723ac817-8128-4d96-9d5b-8c19c4117eb4",
   "metadata": {},
   "source": [
    "<center><figure>\n",
    "  <img src=\"Images/rainfall_runoff.jpg\" width=600/>\n",
    "<figcaption>Rainfall-Runoff\n",
    "</figure></center>"
   ]
  },
  {
   "cell_type": "markdown",
   "id": "5d161174-d105-4603-9e7f-e01efdb7bb61",
   "metadata": {},
   "source": [
    "However, until now rainfall predictions have been computed deterministically without providing any information about the uncertainty that plays a significant role in these predictions. It is crucial to quantify uncertainties in rainfall-runoff predictions for multiple reasons, as it provides stakeholders a better understanding of the the possible outcoems that could occur. Therefore it is crucial for decision-making in many sectors, for example water resource management, agriculture and disaster risk reduction. \n",
    "\n",
    "\n",
    "For that reason there is a need to estimate the uncertainty by using probabilistic predictions instead of deterministic ones. The main goal of this project is to investigate different methods for uncertainty estimation in discharge prediction using probabilistic predictions.\n"
   ]
  },
  {
   "cell_type": "markdown",
   "id": "b5c29ea6-366b-4728-866e-4327ca45760f",
   "metadata": {},
   "source": [
    "## Objectives"
   ]
  },
  {
   "cell_type": "markdown",
   "id": "3f6d0426-1988-4c37-a89f-275040c8f9b1",
   "metadata": {},
   "source": [
    "The project has three primary objectives:\n",
    "\n",
    "•\t**Hands-on Discharge prediction:** \n",
    "    \n",
    "    - Gain practical experience in discharge prediction using machine learning techniques.\n",
    "\n",
    "•\t**Uncertainty Estimation for Discharge Prediction:**\n",
    "\n",
    "    - Investigate diverse methodologies for uncertainty estimation (MCD, GMM, UMAL, CMAL) in discharge prediction using machine learning models.\n",
    "\n",
    "•\t**Evaluation Metrics Exploration:** \n",
    "\n",
    "    - Explore suitable metrics (PICP, PINAW) for evaluating the performance of various uncertainty estimation methods.\n"
   ]
  },
  {
   "cell_type": "markdown",
   "id": "d1cc1073-9b1d-4c71-9a7d-e4c3fd4b299c",
   "metadata": {},
   "source": [
    "For that purpose the following workplan/flowchart was created:\n",
    "\n",
    "<center><figure>\n",
    "  <img src=\"Images/CEGM2003.png\" width=600/>\n",
    "<figcaption>Workplan\n",
    "</figure></center>"
   ]
  },
  {
   "cell_type": "markdown",
   "id": "07fad800-cc17-45b2-8501-1015500d6785",
   "metadata": {},
   "source": [
    "## Data"
   ]
  },
  {
   "cell_type": "markdown",
   "id": "73717ef6-1ae8-45f0-99f4-ceff7e150bac",
   "metadata": {},
   "source": [
    "For this project data was used from the CAMELS US dataset (Catchment Attributes and Meteorology for Large-sample Studies). This dataset contains of two main aspects; the hydrometeorological time series of each basin and the catchment attributes. \n",
    "\n",
    "\r\n",
    "The hydrometeorological time series contains all the meteorological data that is used as input as well as time series of streamflow observations for each basin. The catchment attributes dataset contains information about a wide range of attributes that are able to influence catchment behaviour such as topographic characteristics (slope, elevation), soil characteristics (soil depth, porosity), geological characteristics etc.\n",
    "\n",
    " \r\n",
    "From this dataset that contains in total 671 catchments in the United States, one specific hydrological unit (HUC) was selected to use as input data for our model. The selected region was HUC 17 which is the North-Western area of the United States including for instance the states of Washington and Oregon.\r\n"
   ]
  },
  {
   "cell_type": "markdown",
   "id": "f4dafc5f-61af-4e9e-969a-edbe3ad899bc",
   "metadata": {},
   "source": [
    "<center><figure>\n",
    "  <img src=\"Images/CAMELS_US_HUC.png\" width=600/>\n",
    "<figcaption>CAMELS US Data\n",
    "</figure></center>"
   ]
  },
  {
   "cell_type": "code",
   "execution_count": null,
   "id": "b4628805-9498-4347-a386-b00aaf02ee96",
   "metadata": {},
   "outputs": [],
   "source": []
  },
  {
   "cell_type": "markdown",
   "id": "d6d4bcce-dfcc-407f-aa89-2bbb39078712",
   "metadata": {},
   "source": [
    "## LSTM Model"
   ]
  },
  {
   "cell_type": "markdown",
   "id": "a9fc9528-2bbc-4dce-a3f9-52f51aec305c",
   "metadata": {},
   "source": [
    "Machine learning has been widely used to produce accurate predictions for optimizing water allocation, flood control, and sustainable environmental practices. Machine learning techniques have emerged as powerful tools in the field of hydrological prediction, offering the potential to enhance accuracy and efficiency. Among these techniques, Long Short-Term Memory (LSTM) networks have gained prominence for their ability to model complex temporal dependencies in data. The application of LSTM models in hydrological prediction involves leveraging their capacity to analyze and learn patterns from historical hydrological data. By understanding the intricate relationships between various meteorological and hydrological variables, LSTMs can generate predictions that contribute to more informed decision-making in water resource management."
   ]
  },
  {
   "cell_type": "markdown",
   "id": "f67186b1-67a7-420c-afa6-7fc6bf1eba5f",
   "metadata": {},
   "source": [
    "<center><figure>\n",
    "  <img src=\"Images/LSTM.png\" width=600/>\n",
    "<figcaption>LSTM Model\n",
    "</figure></center>"
   ]
  },
  {
   "cell_type": "code",
   "execution_count": null,
   "id": "9deb149a-065d-488d-8c94-1f9f56457a37",
   "metadata": {},
   "outputs": [],
   "source": []
  }
 ],
 "metadata": {
  "kernelspec": {
   "display_name": "Python 3 (ipykernel)",
   "language": "python",
   "name": "python3"
  },
  "language_info": {
   "codemirror_mode": {
    "name": "ipython",
    "version": 3
   },
   "file_extension": ".py",
   "mimetype": "text/x-python",
   "name": "python",
   "nbconvert_exporter": "python",
   "pygments_lexer": "ipython3",
   "version": "3.10.13"
  }
 },
 "nbformat": 4,
 "nbformat_minor": 5
}
